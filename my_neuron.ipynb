{
 "cells": [
  {
   "cell_type": "code",
   "execution_count": 8,
   "metadata": {},
   "outputs": [],
   "source": [
    "from MyNeural import Neural\n",
    "import numpy as np"
   ]
  },
  {
   "cell_type": "code",
   "execution_count": 9,
   "metadata": {},
   "outputs": [
    {
     "name": "stdout",
     "output_type": "stream",
     "text": [
      "(1, 2)\n",
      "[array([[31.19968717, 52.44333981, 20.60123895],\n",
      "       [31.10411085, 54.07238352, 22.26194804],\n",
      "       [32.9900518 , 54.59019667, 21.44405943],\n",
      "       [34.4945292 , 57.0787616 , 22.86789962]]), array([[ 1.22823764,  0.40493806,  0.07561058],\n",
      "       [ 1.98492582, -0.95672852, -0.2749156 ],\n",
      "       [ 0.8456655 ,  0.56814514, -0.59446196]]), array([[ 2.36684846],\n",
      "       [-0.19652092],\n",
      "       [-0.56286337]])]\n"
     ]
    }
   ],
   "source": [
    "\n",
    "neuron = Neural()\n",
    "\n",
    "neuron.add(neurons=4, activation='sigmoid')\n",
    "neuron.add(neurons=3, activation=\"relu\")\n",
    "neuron.add(neurons=3, activation=\"relu\")\n",
    "\n",
    "neuron.add(neurons=1, activation=\"relu\")\n",
    "X = np.array([[2, 3, 4, 5], [3, 4, 5, 6]])\n",
    "y = np.array([[12, 14]])\n",
    "\n",
    "print(y.shape)\n",
    "neuron.fit(X, y)\n",
    "neuron.save_model(\"salom.json\")"
   ]
  },
  {
   "attachments": {},
   "cell_type": "markdown",
   "metadata": {},
   "source": [
    "#CHatgpt tugirlab bergani"
   ]
  },
  {
   "cell_type": "code",
   "execution_count": null,
   "metadata": {},
   "outputs": [],
   "source": []
  },
  {
   "cell_type": "code",
   "execution_count": null,
   "metadata": {},
   "outputs": [],
   "source": []
  }
 ],
 "metadata": {
  "kernelspec": {
   "display_name": "Python 3",
   "language": "python",
   "name": "python3"
  },
  "language_info": {
   "codemirror_mode": {
    "name": "ipython",
    "version": 3
   },
   "file_extension": ".py",
   "mimetype": "text/x-python",
   "name": "python",
   "nbconvert_exporter": "python",
   "pygments_lexer": "ipython3",
   "version": "3.9.13"
  },
  "orig_nbformat": 4,
  "vscode": {
   "interpreter": {
    "hash": "b1bc6c1cc735f9fd334534da8f897f4a51924fa10da9793ef1c40b957655406c"
   }
  }
 },
 "nbformat": 4,
 "nbformat_minor": 2
}
