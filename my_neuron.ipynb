{
 "cells": [
  {
   "cell_type": "code",
   "execution_count": 19,
   "metadata": {},
   "outputs": [],
   "source": [
    "from MyNeural import Neural\n",
    "import numpy as np"
   ]
  },
  {
   "cell_type": "code",
   "execution_count": 20,
   "metadata": {},
   "outputs": [
    {
     "name": "stdout",
     "output_type": "stream",
     "text": [
      "(1, 2)\n",
      "[array([[-0.57030764,  0.88049077, -0.7297902 ],\n",
      "       [ 0.11164681,  0.55075253,  0.68281924],\n",
      "       [ 0.85351482,  0.96424609,  0.33022073],\n",
      "       [ 0.87464165, -0.63283142, -0.88939179]]), array([[-0.86297321,  0.81832246,  0.88887808],\n",
      "       [-0.29298634,  0.45266923, -0.82905771],\n",
      "       [-0.77846693,  0.83499804, -0.92721707]]), array([[-0.58626216],\n",
      "       [ 0.02212989],\n",
      "       [ 0.53357698]])]\n"
     ]
    }
   ],
   "source": [
    "\n",
    "neuron = Neural()\n",
    "\n",
    "neuron.add(neurons=4, activation='sigmoid')\n",
    "neuron.add(neurons=3, activation=\"relu\")\n",
    "neuron.add(neurons=3, activation=\"relu\")\n",
    "\n",
    "neuron.add(neurons=1, activation=\"relu\")\n",
    "X = np.array([[2, 3, 4, 5], [3, 4, 5, 6]])\n",
    "y = np.array([[12, 14]])\n",
    "\n",
    "print(y.shape)\n",
    "neuron.fit(X, y)"
   ]
  },
  {
   "attachments": {},
   "cell_type": "markdown",
   "metadata": {},
   "source": [
    "#CHatgpt tugirlab bergani"
   ]
  },
  {
   "cell_type": "code",
   "execution_count": null,
   "metadata": {},
   "outputs": [],
   "source": []
  },
  {
   "cell_type": "code",
   "execution_count": null,
   "metadata": {},
   "outputs": [],
   "source": []
  }
 ],
 "metadata": {
  "kernelspec": {
   "display_name": "Python 3",
   "language": "python",
   "name": "python3"
  },
  "language_info": {
   "codemirror_mode": {
    "name": "ipython",
    "version": 3
   },
   "file_extension": ".py",
   "mimetype": "text/x-python",
   "name": "python",
   "nbconvert_exporter": "python",
   "pygments_lexer": "ipython3",
   "version": "3.9.13"
  },
  "orig_nbformat": 4,
  "vscode": {
   "interpreter": {
    "hash": "b1bc6c1cc735f9fd334534da8f897f4a51924fa10da9793ef1c40b957655406c"
   }
  }
 },
 "nbformat": 4,
 "nbformat_minor": 2
}
