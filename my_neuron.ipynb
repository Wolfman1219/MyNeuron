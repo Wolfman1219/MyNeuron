{
 "cells": [
  {
   "cell_type": "code",
   "execution_count": 5,
   "metadata": {},
   "outputs": [],
   "source": [
    "from MyNeural import Neural\n",
    "import numpy as np"
   ]
  },
  {
   "cell_type": "code",
   "execution_count": 7,
   "metadata": {},
   "outputs": [
    {
     "name": "stdout",
     "output_type": "stream",
     "text": [
      "(1, 2)\n",
<<<<<<< HEAD
      "[array([[-1.88336419, 77.48380226, -7.13923442],\n",
      "       [-2.12356716, 80.73977924, -7.14671211],\n",
      "       [-1.55592808, 84.79404074, -8.07325162],\n",
      "       [-1.29545879, 88.2920725 , -6.88770104]]), array([[-0.45839403,  0.71629379,  0.67337349],\n",
      "       [ 2.08090773, -0.47006746,  1.53359271],\n",
      "       [-0.03932552, -0.53651561, -0.34077568]]), array([[ 2.28889114],\n",
      "       [-0.91648344],\n",
      "       [ 1.49356438]])]\n"
=======
      "[array([[ 5.31482531e+02, -8.45013190e-02,  5.75542005e+02],\n",
      "       [ 7.37279451e+02,  5.29133494e-01,  8.00021942e+02],\n",
      "       [ 9.43170854e+02, -9.87427033e-01,  1.02331494e+03],\n",
      "       [ 1.15046950e+03, -9.95165290e-01,  1.24777424e+03]]), array([[48.17707909, -0.26464545, 16.29471358],\n",
      "       [-0.7822127 , -0.43817965,  0.11553497],\n",
      "       [52.52796131, -0.71216408, 16.84113529]]), array([[-10.12184835],\n",
      "       [ -0.912431  ],\n",
      "       [ -3.33173443]])]\n"
>>>>>>> 136d361a05bd76daa8616b9e63c6bad1b9070c62
     ]
    }
   ],
   "source": [
    "\n",
    "neuron = Neural()\n",
    "\n",
    "neuron.add(neurons=4, activation='relu')\n",
    "neuron.add(neurons=3, activation=\"relu\")\n",
    "neuron.add(neurons=3, activation=\"relu\")\n",
    "neuron.add(neurons=1, activation=\"softmax\")\n",
    "X = np.array([[2, 3, 4, 5], [3, 4, 5, 6]])\n",
    "y = np.array([[12, 14]])\n",
    "\n",
    "print(y.shape)\n",
    "neuron.fit(X, y)\n",
    "neuron.save_model(\"salom.json\")"
   ]
  },
  {
   "cell_type": "code",
   "execution_count": null,
   "metadata": {},
   "outputs": [],
   "source": []
  },
  {
   "cell_type": "code",
   "execution_count": null,
   "metadata": {},
   "outputs": [],
   "source": []
  }
 ],
 "metadata": {
  "kernelspec": {
   "display_name": "Python 3",
   "language": "python",
   "name": "python3"
  },
  "language_info": {
   "codemirror_mode": {
    "name": "ipython",
    "version": 3
   },
   "file_extension": ".py",
   "mimetype": "text/x-python",
   "name": "python",
   "nbconvert_exporter": "python",
   "pygments_lexer": "ipython3",
   "version": "3.9.13"
  },
  "orig_nbformat": 4,
  "vscode": {
   "interpreter": {
    "hash": "b1bc6c1cc735f9fd334534da8f897f4a51924fa10da9793ef1c40b957655406c"
   }
  }
 },
 "nbformat": 4,
 "nbformat_minor": 2
}
