{
 "cells": [
  {
   "cell_type": "code",
   "execution_count": 1,
   "metadata": {},
   "outputs": [],
   "source": [
    "from MyNeural import Neural\n",
    "import numpy as np"
   ]
  },
  {
   "cell_type": "code",
   "execution_count": 2,
   "metadata": {},
   "outputs": [
    {
     "name": "stdout",
     "output_type": "stream",
     "text": [
      "(1, 2)\n",
      "[array([[ 0.48896774,  0.67845391,  0.89445586],\n",
      "       [-0.27332301, -0.38467703,  1.05700319],\n",
      "       [ 0.17465433, -0.94944635, -0.03567484],\n",
      "       [-0.248634  , -0.40846213,  0.3783718 ]]), array([[ 0.04657601, -0.94347354,  0.11267325],\n",
      "       [ 0.31576919, -0.20405926, -0.28236624],\n",
      "       [-0.31566586,  0.73264226,  0.94143835]]), array([[0.62069925],\n",
      "       [1.03245784],\n",
      "       [0.90565865]])]\n",
      "[array([[0.        , 0.        , 0.07197925]]), array([[0.        , 0.04766325, 0.04145152]]), array([[0.04698065]])]\n"
     ]
    }
   ],
   "source": [
    "\n",
    "neuron = Neural()\n",
    "\n",
    "neuron.add(neurons=4, activation='relu')\n",
    "neuron.add(neurons=3, activation=\"relu\")\n",
    "neuron.add(neurons=3, activation=\"relu\")\n",
    "\n",
    "neuron.add(neurons=1, activation=\"linear\")\n",
    "X = np.array([[2, 3, 4, 5], [3, 4, 5, 6]])\n",
    "y = np.array([[12, 14]])\n",
    "\n",
    "print(y.shape)\n",
    "neuron.fit(X, y, learning_rate=0.0001)\n",
    "neuron.save_model(\"salom.json\")"
   ]
  }
 ],
 "metadata": {
  "kernelspec": {
   "display_name": "Python 3",
   "language": "python",
   "name": "python3"
  },
  "language_info": {
   "codemirror_mode": {
    "name": "ipython",
    "version": 3
   },
   "file_extension": ".py",
   "mimetype": "text/x-python",
   "name": "python",
   "nbconvert_exporter": "python",
   "pygments_lexer": "ipython3",
   "version": "3.9.13"
  },
  "orig_nbformat": 4,
  "vscode": {
   "interpreter": {
    "hash": "b1bc6c1cc735f9fd334534da8f897f4a51924fa10da9793ef1c40b957655406c"
   }
  }
 },
 "nbformat": 4,
 "nbformat_minor": 2
}
