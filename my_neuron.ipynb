{
 "cells": [
  {
   "cell_type": "code",
   "execution_count": 9,
   "metadata": {},
   "outputs": [],
   "source": [
    "from MyNeural import Neural\n",
    "import numpy as np"
   ]
  },
  {
   "cell_type": "code",
   "execution_count": 10,
   "metadata": {},
   "outputs": [
    {
     "name": "stdout",
     "output_type": "stream",
     "text": [
      "(1, 2)\n",
      "[array([[-0.30628178,  0.78206153, -0.60602831],\n",
      "       [-0.22795745,  0.7584091 , -0.60609984],\n",
      "       [ 0.51671017, -0.13948475, -0.58474096],\n",
      "       [-0.47522583, -0.51426349, -0.97683502]]), array([[ 0.41602003,  0.47030497,  0.1041961 ],\n",
      "       [-0.75446496,  0.91143789,  0.20934724],\n",
      "       [ 0.39858027, -0.43634592,  0.36314337]]), array([[-0.52603715],\n",
      "       [-0.48550562],\n",
      "       [-0.50336691]])]\n",
      "[array([[0., 0., 0.]]), array([[0., 0., 0.]]), array([[0.]])]\n"
     ]
    }
   ],
   "source": [
    "\n",
    "neuron = Neural()\n",
    "\n",
    "neuron.add(neurons=4, activation='relu')\n",
    "neuron.add(neurons=3, activation=\"relu\")\n",
    "neuron.add(neurons=3, activation=\"relu\")\n",
    "\n",
    "neuron.add(neurons=1, activation=\"sigmoid\")\n",
    "X = np.array([[2, 3, 4, 5], [3, 4, 5, 6]])\n",
    "y = np.array([[12, 14]])\n",
    "\n",
    "print(y.shape)\n",
    "neuron.fit(X, y, learning_rate=0.0001)\n",
    "neuron.save_model(\"salom.json\")"
   ]
  }
 ],
 "metadata": {
  "kernelspec": {
   "display_name": "Python 3",
   "language": "python",
   "name": "python3"
  },
  "language_info": {
   "codemirror_mode": {
    "name": "ipython",
    "version": 3
   },
   "file_extension": ".py",
   "mimetype": "text/x-python",
   "name": "python",
   "nbconvert_exporter": "python",
   "pygments_lexer": "ipython3",
   "version": "3.9.13"
  },
  "orig_nbformat": 4,
  "vscode": {
   "interpreter": {
    "hash": "b1bc6c1cc735f9fd334534da8f897f4a51924fa10da9793ef1c40b957655406c"
   }
  }
 },
 "nbformat": 4,
 "nbformat_minor": 2
}
