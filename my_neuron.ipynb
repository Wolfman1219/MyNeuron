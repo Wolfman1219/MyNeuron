{
 "cells": [
  {
   "cell_type": "code",
   "execution_count": 1,
   "metadata": {},
   "outputs": [],
   "source": [
    "from MyNeural import Neural\n",
    "import numpy as np"
   ]
  },
  {
   "cell_type": "code",
   "execution_count": 7,
   "metadata": {},
   "outputs": [
    {
     "name": "stdout",
     "output_type": "stream",
     "text": [
      "(1, 2)\n"
     ]
    },
    {
     "ename": "TypeError",
     "evalue": "unsupported operand type(s) for *: 'NoneType' and 'float'",
     "output_type": "error",
     "traceback": [
      "\u001b[1;31m---------------------------------------------------------------------------\u001b[0m",
      "\u001b[1;31mTypeError\u001b[0m                                 Traceback (most recent call last)",
      "Cell \u001b[1;32mIn[7], line 14\u001b[0m\n\u001b[0;32m      8\u001b[0m \u001b[39m# print(X.shape)\u001b[39;00m\n\u001b[0;32m      9\u001b[0m \u001b[39m# print(y.shape)\u001b[39;00m\n\u001b[0;32m     10\u001b[0m \u001b[39m# X = np.ones((2,1))\u001b[39;00m\n\u001b[0;32m     11\u001b[0m \u001b[39m# y = np.zeros((1, 2))\u001b[39;00m\n\u001b[0;32m     12\u001b[0m \u001b[39m# print(y.size)\u001b[39;00m\n\u001b[0;32m     13\u001b[0m \u001b[39mprint\u001b[39m(y\u001b[39m.\u001b[39mshape)\n\u001b[1;32m---> 14\u001b[0m neuron\u001b[39m.\u001b[39;49mfit(X, y)\n",
      "File \u001b[1;32mc:\\Users\\ajbbo\\Documents\\PROJECTS\\darslar\\neurons\\MyNeural.py:35\u001b[0m, in \u001b[0;36mNeural.fit\u001b[1;34m(self, X, y, epochs, learning_rate)\u001b[0m\n\u001b[0;32m     32\u001b[0m activations \u001b[39m=\u001b[39m [X]\n\u001b[0;32m     34\u001b[0m \u001b[39mfor\u001b[39;00m i \u001b[39min\u001b[39;00m \u001b[39mrange\u001b[39m(\u001b[39mlen\u001b[39m(\u001b[39mself\u001b[39m\u001b[39m.\u001b[39mlayers)\u001b[39m-\u001b[39m\u001b[39m1\u001b[39m):\n\u001b[1;32m---> 35\u001b[0m     activations\u001b[39m.\u001b[39mappend(\u001b[39mself\u001b[39m\u001b[39m.\u001b[39mactivator(sample\u001b[39m=\u001b[39m(np\u001b[39m.\u001b[39;49mdot(activations[\u001b[39m-\u001b[39;49m\u001b[39m1\u001b[39;49m], \u001b[39mself\u001b[39;49m\u001b[39m.\u001b[39;49mweights[i]) \u001b[39m+\u001b[39m \u001b[39mself\u001b[39m\u001b[39m.\u001b[39mbiases[i]), activator_name\u001b[39m=\u001b[39m\u001b[39mself\u001b[39m\u001b[39m.\u001b[39mlayers[i][\u001b[39m'\u001b[39m\u001b[39mactivation\u001b[39m\u001b[39m'\u001b[39m]) )\n\u001b[0;32m     37\u001b[0m \u001b[39m# birinchi error\u001b[39;00m\n\u001b[0;32m     38\u001b[0m output \u001b[39m=\u001b[39m activations[\u001b[39m-\u001b[39m\u001b[39m1\u001b[39m]\n",
      "File \u001b[1;32m<__array_function__ internals>:180\u001b[0m, in \u001b[0;36mdot\u001b[1;34m(*args, **kwargs)\u001b[0m\n",
      "\u001b[1;31mTypeError\u001b[0m: unsupported operand type(s) for *: 'NoneType' and 'float'"
     ]
    }
   ],
   "source": [
    "\n",
    "neuron = Neural()\n",
    "\n",
    "neuron.add(neurons=4, activation='ReLU')\n",
    "neuron.add(neurons=3, activation=\"ReLU\")\n",
    "neuron.add(neurons=1, activation=\"SigMoid\")\n",
    "X = np.array([[2, 3, 4, 5], [3, 4, 5, 6]])\n",
    "y = np.array([[12, 14]])\n",
    "\n",
    "print(y.shape)\n",
    "neuron.fit(X, y)"
   ]
  },
  {
   "attachments": {},
   "cell_type": "markdown",
   "metadata": {},
   "source": [
    "#CHatgpt tugirlab bergani"
   ]
  },
  {
   "cell_type": "code",
   "execution_count": 62,
   "metadata": {},
   "outputs": [],
   "source": []
  },
  {
   "cell_type": "code",
   "execution_count": null,
   "metadata": {},
   "outputs": [],
   "source": []
  }
 ],
 "metadata": {
  "kernelspec": {
   "display_name": "Python 3",
   "language": "python",
   "name": "python3"
  },
  "language_info": {
   "codemirror_mode": {
    "name": "ipython",
    "version": 3
   },
   "file_extension": ".py",
   "mimetype": "text/x-python",
   "name": "python",
   "nbconvert_exporter": "python",
   "pygments_lexer": "ipython3",
   "version": "3.9.13"
  },
  "orig_nbformat": 4,
  "vscode": {
   "interpreter": {
    "hash": "b1bc6c1cc735f9fd334534da8f897f4a51924fa10da9793ef1c40b957655406c"
   }
  }
 },
 "nbformat": 4,
 "nbformat_minor": 2
}
